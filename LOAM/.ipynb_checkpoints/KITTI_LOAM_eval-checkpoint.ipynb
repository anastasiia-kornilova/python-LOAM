{
 "cells": [
  {
   "cell_type": "code",
   "execution_count": 1,
   "metadata": {},
   "outputs": [],
   "source": [
    "import copy\n",
    "import matplotlib.pyplot as plt\n",
    "import numpy as np\n",
    "import open3d as o3d\n",
    "import os\n",
    "\n",
    "from odometry_estimator import OdometryEstimator\n",
    "from mapping import Mapper\n",
    "from loader_kitti import LoaderKITTI"
   ]
  },
  {
   "cell_type": "code",
   "execution_count": 2,
   "metadata": {},
   "outputs": [],
   "source": [
    "%load_ext autoreload\n",
    "%autoreload 2"
   ]
  },
  {
   "cell_type": "code",
   "execution_count": 3,
   "metadata": {},
   "outputs": [],
   "source": [
    "import csv\n",
    "\n",
    "kitti_odometry_path = '../../data_odometry_poses/dataset/poses/00.txt'\n",
    "odometry = []\n",
    "with open(kitti_odometry_path, newline='') as csvfile:\n",
    "    odometry_reader = csv.reader(csvfile, delimiter=' ')\n",
    "    for row in odometry_reader:\n",
    "        row = [float(i) for i in row]\n",
    "        odometry.append(np.array(row).reshape(3, 4))\n",
    "\n",
    "path_x_gt = []\n",
    "path_y_gt = []\n",
    "for matrix in odometry:\n",
    "    path_x_gt.append(float(matrix[0, 3]))\n",
    "    path_y_gt.append(float(matrix[2, 3]))\n",
    "\n",
    "plt.show()"
   ]
  },
  {
   "cell_type": "code",
   "execution_count": 5,
   "metadata": {},
   "outputs": [
    {
     "name": "stdout",
     "output_type": "stream",
     "text": [
      "15 [ 0.7603028  -0.12513401 -0.08104901  1.        ]\n"
     ]
    },
    {
     "data": {
      "image/png": "[encoded data removed]",
      "text/plain": [
       "<Figure size 720x576 with 1 Axes>"
      ]
     },
     "metadata": {
      "needs_background": "light"
     },
     "output_type": "display_data"
    },
    {
     "name": "stdout",
     "output_type": "stream",
     "text": [
      "16\n",
      "17\n",
      "18\n",
      "19\n",
      "20\n",
      "Surface count:  320\n"
     ]
    },
    {
     "ename": "KeyboardInterrupt",
     "evalue": "",
     "output_type": "error",
     "traceback": [
      "\u001b[0;31m---------------------------------------------------------------------------\u001b[0m",
      "\u001b[0;31mKeyboardInterrupt\u001b[0m                         Traceback (most recent call last)",
      "\u001b[0;32m<ipython-input-5-e1493defb189>\u001b[0m in \u001b[0;36m<module>\u001b[0;34m\u001b[0m\n\u001b[1;32m     23\u001b[0m     \u001b[0;32mif\u001b[0m \u001b[0mi\u001b[0m \u001b[0;34m%\u001b[0m \u001b[0;36m5\u001b[0m \u001b[0;34m==\u001b[0m \u001b[0;36m0\u001b[0m\u001b[0;34m:\u001b[0m\u001b[0;34m\u001b[0m\u001b[0;34m\u001b[0m\u001b[0m\n\u001b[1;32m     24\u001b[0m         \u001b[0mpcd\u001b[0m \u001b[0;34m=\u001b[0m \u001b[0mloader\u001b[0m\u001b[0;34m.\u001b[0m\u001b[0mget_item\u001b[0m\u001b[0;34m(\u001b[0m\u001b[0mi\u001b[0m\u001b[0;34m)\u001b[0m\u001b[0;34m\u001b[0m\u001b[0;34m\u001b[0m\u001b[0m\n\u001b[0;32m---> 25\u001b[0;31m         \u001b[0mT\u001b[0m\u001b[0;34m,\u001b[0m \u001b[0msharp_points\u001b[0m\u001b[0;34m,\u001b[0m \u001b[0mflat_points\u001b[0m \u001b[0;34m=\u001b[0m \u001b[0modometry\u001b[0m\u001b[0;34m.\u001b[0m\u001b[0mappend_pcd\u001b[0m\u001b[0;34m(\u001b[0m\u001b[0mpcd\u001b[0m\u001b[0;34m)\u001b[0m\u001b[0;34m\u001b[0m\u001b[0;34m\u001b[0m\u001b[0m\n\u001b[0m\u001b[1;32m     26\u001b[0m         \u001b[0mmapper\u001b[0m\u001b[0;34m.\u001b[0m\u001b[0mappend_undistorted\u001b[0m\u001b[0;34m(\u001b[0m\u001b[0mpcd\u001b[0m\u001b[0;34m[\u001b[0m\u001b[0;36m0\u001b[0m\u001b[0;34m]\u001b[0m\u001b[0;34m,\u001b[0m \u001b[0mT\u001b[0m\u001b[0;34m,\u001b[0m \u001b[0msharp_points\u001b[0m\u001b[0;34m,\u001b[0m \u001b[0mflat_points\u001b[0m\u001b[0;34m,\u001b[0m \u001b[0mvis\u001b[0m\u001b[0;34m=\u001b[0m\u001b[0;32mFalse\u001b[0m\u001b[0;34m)\u001b[0m\u001b[0;34m\u001b[0m\u001b[0;34m\u001b[0m\u001b[0m\n\u001b[1;32m     27\u001b[0m         \u001b[0mpos\u001b[0m \u001b[0;34m=\u001b[0m \u001b[0mmapper\u001b[0m\u001b[0;34m.\u001b[0m\u001b[0mposition\u001b[0m\u001b[0;34m\u001b[0m\u001b[0;34m\u001b[0m\u001b[0m\n",
      "\u001b[0;32m~/Documents/sk_rob/LOAM/src/odometry_estimator.py\u001b[0m in \u001b[0;36mappend_pcd\u001b[0;34m(self, pcd)\u001b[0m\n\u001b[1;32m     29\u001b[0m         \u001b[0;32melse\u001b[0m\u001b[0;34m:\u001b[0m\u001b[0;34m\u001b[0m\u001b[0;34m\u001b[0m\u001b[0m\n\u001b[1;32m     30\u001b[0m             \u001b[0medge_corresp\u001b[0m \u001b[0;34m=\u001b[0m \u001b[0mself\u001b[0m\u001b[0;34m.\u001b[0m\u001b[0mfind_edge_correspondences\u001b[0m\u001b[0;34m(\u001b[0m\u001b[0msharp_points\u001b[0m\u001b[0;34m)\u001b[0m\u001b[0;34m\u001b[0m\u001b[0;34m\u001b[0m\u001b[0m\n\u001b[0;32m---> 31\u001b[0;31m             \u001b[0msurface_corresp\u001b[0m \u001b[0;34m=\u001b[0m \u001b[0mself\u001b[0m\u001b[0;34m.\u001b[0m\u001b[0mfind_surface_correspondences\u001b[0m\u001b[0;34m(\u001b[0m\u001b[0mflat_points\u001b[0m\u001b[0;34m,\u001b[0m \u001b[0mpcd\u001b[0m\u001b[0;34m)\u001b[0m\u001b[0;34m\u001b[0m\u001b[0;34m\u001b[0m\u001b[0m\n\u001b[0m\u001b[1;32m     32\u001b[0m             \u001b[0moptimizer\u001b[0m \u001b[0;34m=\u001b[0m \u001b[0mLOAMOptimizer\u001b[0m\u001b[0;34m(\u001b[0m\u001b[0medge_corresp\u001b[0m\u001b[0;34m,\u001b[0m \u001b[0msurface_corresp\u001b[0m\u001b[0;34m)\u001b[0m\u001b[0;34m\u001b[0m\u001b[0;34m\u001b[0m\u001b[0m\n\u001b[1;32m     33\u001b[0m             \u001b[0mT\u001b[0m \u001b[0;34m=\u001b[0m \u001b[0moptimizer\u001b[0m\u001b[0;34m.\u001b[0m\u001b[0moptimize\u001b[0m\u001b[0;34m(\u001b[0m\u001b[0;34m)\u001b[0m\u001b[0;34m\u001b[0m\u001b[0;34m\u001b[0m\u001b[0m\n",
      "\u001b[0;32m~/Documents/sk_rob/LOAM/src/odometry_estimator.py\u001b[0m in \u001b[0;36mfind_surface_correspondences\u001b[0;34m(self, flat_points, pcd)\u001b[0m\n\u001b[1;32m    127\u001b[0m \u001b[0;34m\u001b[0m\u001b[0m\n\u001b[1;32m    128\u001b[0m             dist_to_sel_point = matrix_dot_product((self.last_less_flat_points[:, :3] - point_sel[:3]),\n\u001b[0;32m--> 129\u001b[0;31m                                                    (self.last_less_flat_points[:, :3] - point_sel[:3]))\n\u001b[0m\u001b[1;32m    130\u001b[0m \u001b[0;34m\u001b[0m\u001b[0m\n\u001b[1;32m    131\u001b[0m             \u001b[0mclosest_point_ind\u001b[0m \u001b[0;34m=\u001b[0m \u001b[0midx\u001b[0m\u001b[0;34m[\u001b[0m\u001b[0;36m0\u001b[0m\u001b[0;34m]\u001b[0m\u001b[0;34m\u001b[0m\u001b[0;34m\u001b[0m\u001b[0m\n",
      "\u001b[0;31mKeyboardInterrupt\u001b[0m: "
     ]
    }
   ],
   "source": [
    "from IPython.display import clear_output\n",
    "\n",
    "\n",
    "folder = '/home/anastasiya/data/data_odometry_velodyne.zip/'\n",
    "pcds_list = os.listdir(folder)\n",
    "pcds_list.sort()\n",
    "\n",
    "odometry = OdometryEstimator()\n",
    "global_transform = np.eye(4)\n",
    "pcds = []\n",
    "mapper = Mapper()\n",
    "path_x = []\n",
    "path_y = []\n",
    "\n",
    "loader = LoaderKITTI(folder, '00')\n",
    "\n",
    "odometry = OdometryEstimator()\n",
    "global_transform = np.eye(4)\n",
    "pcds = []\n",
    "mapper = Mapper()\n",
    "for i in range(loader.length()):\n",
    "    print(i)\n",
    "    if i % 3 == 0:\n",
    "        pcd = loader.get_item(i)\n",
    "        T, sharp_points, flat_points = odometry.append_pcd(pcd)\n",
    "        mapper.append_undistorted(pcd[0], T, sharp_points, flat_points, vis=False)\n",
    "        pos = mapper.position\n",
    "        path_x.append(-pos[1, 3])\n",
    "        path_y.append(pos[0, 3])\n",
    "    \n",
    "        clear_output(wait=True)\n",
    "        plt.figure(figsize=(10, 8))\n",
    "        print(i, pos[:, 3])\n",
    "        plt.plot(path_x, path_y)\n",
    "        plt.plot(path_x_gt[:100], path_y_gt[:100])\n",
    "        plt.show()"
   ]
  },
  {
   "cell_type": "code",
   "execution_count": null,
   "metadata": {},
   "outputs": [],
   "source": []
  },
  {
   "cell_type": "code",
   "execution_count": null,
   "metadata": {},
   "outputs": [],
   "source": []
  }
 ],
 "metadata": {
  "kernelspec": {
   "display_name": "Python 3",
   "language": "python",
   "name": "python3"
  },
  "language_info": {
   "codemirror_mode": {
    "name": "ipython",
    "version": 3
   },
   "file_extension": ".py",
   "mimetype": "text/x-python",
   "name": "python",
   "nbconvert_exporter": "python",
   "pygments_lexer": "ipython3",
   "version": "3.6.10"
  }
 },
 "nbformat": 4,
 "nbformat_minor": 4
}
